{
 "cells": [
  {
   "attachments": {},
   "cell_type": "markdown",
   "metadata": {},
   "source": [
    "Se emplean funciones de data engineer, data analitics para realizar y obtener metricas y KPIs"
   ]
  },
  {
   "cell_type": "code",
   "execution_count": null,
   "metadata": {},
   "outputs": [],
   "source": [
    "# Se importan librerías a usar\n",
    "import pandas as pd\n",
    "import numpy as np\n",
    "import matplotlib.pyplot as plt\n"
   ]
  },
  {
   "cell_type": "code",
   "execution_count": null,
   "metadata": {},
   "outputs": [],
   "source": [
    "# Se descargan archivos csv a asociados al análisis de datos\n",
    "Acceso_internet_fijo_velocidadbajada_provincia=pd.read_csv('Datasets/AccesosaInternetfijoporvelocidadbajadayprovincia_2791741685050936567.csv')\n",
    "Acceso_internet_fijo_velocidadbajada_localidad=pd.read_csv('Datasets/AccesosaInternetfijoporvelocidaddebajadaylocalidad_2776171685050986091.csv')\n",
    "Conectividad_Servicio_Internet=pd.read_csv('Datasets/ConectividadalserviciodeInternet_2776151685051230707.csv')\n",
    "Internet_Accesos_por_tecnologia=pd.read_csv('Datasets/Internet_Accesos-por-tecnologia.csv')\n",
    "Internet_Accesos_velocidad=pd.read_csv('Datasets/Internet_Accesos-por-tecnologia.csv')\n",
    "Internet_BAF=pd.read_csv('Datasets/Internet_BAF.csv')\n",
    "Internet_ingresos = pd.read_csv('Datasets/Internet_Ingresos.csv', encoding='utf-8')\n",
    "Internet_Penetracion = pd.read_csv('Datasets\\Internet_Penetracion.csv', encoding='utf-8')\n",
    "Listado_localidades_conectividad_internet=pd.read_csv('Datasets/Listadodelocalidadesconconectividadainternet_2750221685051211461.csv')\n",
    "velocidadInternet_anio = pd.read_csv('Datasets\\historico_velocidad_internet.csv', encoding='utf-8')"
   ]
  },
  {
   "attachments": {},
   "cell_type": "markdown",
   "metadata": {},
   "source": [
    "Se considera para el análisis económico primeramente el DF asociado a Acceso_internet_fijo_velocidadbajada_provincia.\n",
    "Debido a que la velocidad de internet es una medida indiecta de acceso a internet en el país y con ello de crecimiento \n",
    "económico asociado desde el punto de vista empresarial. "
   ]
  },
  {
   "cell_type": "code",
   "execution_count": null,
   "metadata": {},
   "outputs": [],
   "source": [
    "#Evalúo el tipo de datos para cada columna con la finalidad de saber que debo normalizar\n",
    "velocidadInternet_anio.dtypes"
   ]
  },
  {
   "cell_type": "code",
   "execution_count": null,
   "metadata": {},
   "outputs": [],
   "source": [
    "velocidad_anio = velocidadInternet_anio"
   ]
  },
  {
   "cell_type": "code",
   "execution_count": null,
   "metadata": {},
   "outputs": [],
   "source": [
    "serie_velocidad = velocidad_anio['Mbps (Media de bajada)'].str.replace(',', '.').astype(float)\n",
    "velocidad_anio = velocidadInternet_anio.drop(columns='Mbps (Media de bajada)',axis=1)\n",
    "velocidad_anio = pd.concat([velocidad_anio, serie_velocidad], axis=1)\n",
    "velocidad_anio = velocidad_anio.drop(columns='Trimestre.1',axis=1)"
   ]
  },
  {
   "cell_type": "code",
   "execution_count": null,
   "metadata": {},
   "outputs": [],
   "source": [
    "velocidad_maxima = velocidad_anio['Mbps (Media de bajada)'].max()\n",
    "velocidad_maxima"
   ]
  },
  {
   "attachments": {},
   "cell_type": "markdown",
   "metadata": {},
   "source": [
    "En base a estos datos procedemos a sacar el KPI, para lo cual debemos obtener el promedio de crecimiento entre cada una de las provincias y luego \n",
    "a este crecimiento sacarle el promedio. Nuestro resultado demuestra que existe un crecimiento promedio de velocidad de internet entre los años\n",
    "2017 a 2022 de 459% es decir que podemos estimar que para el año 2023 la tasa de velocidad aumentaría posiblemente un 122% "
   ]
  },
  {
   "cell_type": "code",
   "execution_count": null,
   "metadata": {},
   "outputs": [],
   "source": [
    "crecimiento_total = ((velocidad_anio['Mbps (Media de bajada)'].max() - velocidad_anio['Mbps (Media de bajada)'].min())/ velocidad_anio['Mbps (Media de bajada)'].min())*100\n",
    "round(crecimiento_total,1)\n",
    "#crecimiento total a lo largo de los anios"
   ]
  },
  {
   "attachments": {},
   "cell_type": "markdown",
   "metadata": {},
   "source": [
    "HAY QUE PREDECIR EL CUARTO TRIMESTRE DE 2022, USANDO SOLO LOS CUARTOS TRIMESTRES DE LOS ANIOS PREVIOS A 2022, CREAR UN DATAFRAME NUEVO SOLO CON LOS CUARTOS TRIMESTRES Y LUEGO DE PREDECIRLO AGREGARLO COMO UN REGISTRO NUEVO A \"velocidad_anio\"."
   ]
  },
  {
   "cell_type": "code",
   "execution_count": null,
   "metadata": {},
   "outputs": [],
   "source": [
    "velocidad_anio2 = velocidad_anio.drop(columns='Trimestre',axis=1)"
   ]
  },
  {
   "cell_type": "code",
   "execution_count": null,
   "metadata": {},
   "outputs": [],
   "source": [
    "velocidad_anio2 = velocidad_anio2.groupby('Año').mean()"
   ]
  },
  {
   "cell_type": "code",
   "execution_count": null,
   "metadata": {},
   "outputs": [],
   "source": [
    "velocidad_anio2=velocidad_anio2.reset_index()"
   ]
  },
  {
   "cell_type": "code",
   "execution_count": null,
   "metadata": {},
   "outputs": [],
   "source": [
    "velocidad_anio2"
   ]
  },
  {
   "cell_type": "code",
   "execution_count": null,
   "metadata": {},
   "outputs": [],
   "source": [
    "x = velocidad_anio2['Año']\n",
    "y = velocidad_anio2['Mbps (Media de bajada)']\n",
    "anio = 2023\n",
    "\n",
    "plt.figure()\n",
    "\n",
    "#Ajuste de polinomio de grado 4\n",
    "coef = np.polyfit(x, y, 4)\n",
    "p = np.polyval(coef, x)\n",
    "\n",
    "#Predicción para el año 2023\n",
    "p_pred = np.polyval(coef, anio)\n",
    "\n",
    "plt.plot(x, p, label='Ajuste polinomial')\n",
    "\n",
    "mse = np.mean((p - y) ** 2)\n",
    "print(f'Error cuadrático medio para el polinomio de grado 4: {mse}')\n",
    "\n",
    "plt.scatter(x, y, color='red', label='Datos reales')\n",
    "plt.scatter(anio, p_pred, color='green', label=f'Predicción para {anio}')\n",
    "plt.axvline(anio, color='green', linestyle='--', label=f'Valor predicho para {anio}: {p_pred:.2f}')\n",
    "plt.xlabel('Año')\n",
    "plt.ylabel('Mbps (Media de bajada)')\n",
    "plt.title('Ajuste polinomial a datos')\n",
    "plt.legend()\n",
    "plt.show()"
   ]
  },
  {
   "cell_type": "code",
   "execution_count": null,
   "metadata": {},
   "outputs": [],
   "source": [
    "x = velocidad_anio2['Año']\n",
    "y = velocidad_anio2['Mbps (Media de bajada)']\n",
    "anio = 2023\n",
    "coef = np.polyfit(x, y, 4)\n",
    "p = np.polyval(coef, anio)\n",
    "print(f'Para el anio {anio} la prediccion es {p}')"
   ]
  },
  {
   "attachments": {},
   "cell_type": "markdown",
   "metadata": {},
   "source": [
    "Obtengo el análisis del siguiente DF Conectividad_Servicio_Internet, dado que puede arrojar \n",
    "datos del tipo de internet por provincia y se pueden sacar metricas de allí y saber cual es \n",
    "el tipo de internet predominante en Argentina."
   ]
  },
  {
   "cell_type": "code",
   "execution_count": null,
   "metadata": {},
   "outputs": [],
   "source": [
    "#Reviso mis datos, lo primero que noto es que en Provincias está todo en mayúscula y no es agradable a la vista, lo decido normalizar\n",
    "Conectividad_Servicio_Internet.head(5)\n"
   ]
  },
  {
   "cell_type": "code",
   "execution_count": null,
   "metadata": {},
   "outputs": [],
   "source": [
    "# Convertir la primera letra en mayúscula y el resto en minúscula\n",
    "Conectividad_Servicio_Internet['Provincia']= Conectividad_Servicio_Internet['Provincia'].str.lower().str.capitalize()\n",
    "Conectividad_Servicio_Internet"
   ]
  },
  {
   "cell_type": "code",
   "execution_count": null,
   "metadata": {},
   "outputs": [],
   "source": [
    "# Seleccionar las columnas relevantes\n",
    "columnas_relevantes = [\"Provincia\", \"Localidad\", \"ADSL\", \"CABLEMODEM\", \"DIALUP\", \"FIBRAOPTICA\", \"SATELITAL\", \"WIRELESS\", \"TELEFONIAFIJA\", \"3G\", \"4G\"]\n",
    "\n",
    "# Crear un nuevo DataFrame con las columnas seleccionadas\n",
    "df_reducido = Conectividad_Servicio_Internet.reindex(columns=columnas_relevantes)\n",
    "\n",
    "# Utilizar la función melt para transformar las columnas en filas\n",
    "df_melted = df_reducido.melt(id_vars=[\"Provincia\", \"Localidad\"], var_name=\"Tipo de Internet\", value_name=\"Disponible\")\n",
    "\n",
    "# Filtrar los casos donde la conexión está disponible\n",
    "df_disponible = df_melted[df_melted[\"Disponible\"] != \"--\"]\n",
    "\n",
    "# Imprimir el DataFrame resultante\n",
    "df_disponible\n"
   ]
  },
  {
   "cell_type": "code",
   "execution_count": null,
   "metadata": {},
   "outputs": [],
   "source": [
    "#Se continúa la normalización de datos \n",
    "import re #importo regex\n",
    "\n",
    "# Definir los patrones de regex para los valores que deseas normalizar\n",
    "patrones = r\"CABLEMODEM|DIALUP|FIBRAOPTICA|SATELITAL|WIRELESS|TELEFONIAFIJA\"\n",
    "\n",
    "# Filtrar los valores que coinciden con los patrones utilizando regex\n",
    "mascara = df_disponible['Tipo de Internet'].str.contains(patrones, flags=re.IGNORECASE, regex=True)\n",
    "\n",
    "# Crear una copia del DataFrame para trabajar directamente en el original\n",
    "df_disponible = df_disponible.copy()\n",
    "\n",
    "# Aplicar la normalización solo a los valores filtrados\n",
    "df_disponible.loc[mascara, 'Tipo de Internet'] = df_disponible.loc[mascara, 'Tipo de Internet'].str.lower().str.capitalize()\n",
    "df_disponible\n"
   ]
  },
  {
   "cell_type": "code",
   "execution_count": null,
   "metadata": {},
   "outputs": [],
   "source": [
    "# Obtener el conjunto único de provincias\n",
    "provincias_unicas = df_disponible['Provincia'].unique()\n",
    "\n",
    "# Obtener el conjunto único de tipos de internet\n",
    "tipos_internet_unicos = df_disponible['Tipo de Internet'].unique()\n",
    "\n",
    "# Agrupar por provincia y tipo de internet para contar la distribución\n",
    "distribucion = df_disponible.groupby(['Provincia', 'Tipo de Internet']).size().reset_index(name='Cantidad')\n",
    "\n",
    "# Crear la gráfica de barras\n",
    "plt.figure(figsize=(10, 6))\n",
    "\n",
    "# Iterar sobre cada tipo de internet\n",
    "for i, tipo_internet in enumerate(tipos_internet_unicos):\n",
    "    tipo_internet_provincias = distribucion[distribucion['Tipo de Internet'] == tipo_internet]\n",
    "    cantidades = tipo_internet_provincias['Cantidad'].values\n",
    "    \n",
    "    # Crear las posiciones de las barras para cada tipo de internet\n",
    "    x = [i] * len(cantidades)\n",
    "    \n",
    "    # Graficar las barras\n",
    "    plt.bar(x, cantidades, label=tipo_internet)\n",
    "    \n",
    "# Configurar el eje x\n",
    "plt.xticks(range(len(tipos_internet_unicos)), tipos_internet_unicos)\n",
    "plt.xlabel('Tipo de Internet')\n",
    "\n",
    "# Configurar el eje y\n",
    "plt.ylabel('Cantidad')\n",
    "plt.title('Distribución de Tipos de Internet entre las Provincias')\n",
    "plt.legend()\n",
    "\n",
    "# Mostrar la gráfica\n",
    "plt.show()\n",
    "\n",
    "#Conclusion: En la gráfica se muestra la distribución del tipo de internet en relación a las diferentes provincias observando una\n",
    "#predomininancia de la telefonía móvil 4G"
   ]
  },
  {
   "cell_type": "code",
   "execution_count": null,
   "metadata": {},
   "outputs": [],
   "source": [
    "#Obtengo el valor de tipo de internet con provincia y grafico \n",
    "df_provincia_tipo_internet = df_disponible.groupby('Provincia')['Tipo de Internet'].value_counts()\n",
    "\n",
    "df_provincia_tipo_internet"
   ]
  },
  {
   "attachments": {},
   "cell_type": "markdown",
   "metadata": {},
   "source": [
    "Obtenemos metricas que indiquen la tasa de crecimiento en ganancia por miles de pesos argentino para ello\n",
    "usamos el DF Ingresos por Miles"
   ]
  },
  {
   "cell_type": "code",
   "execution_count": null,
   "metadata": {},
   "outputs": [],
   "source": [
    "#Se convierten la columna de Ingresos (miles de pesos)\n",
    "Internet_ingresos['Ingresos (miles de pesos)'] = Internet_ingresos['Ingresos (miles de pesos)'].str.replace('.', '').str.replace(',', '').astype(int)"
   ]
  },
  {
   "cell_type": "code",
   "execution_count": null,
   "metadata": {},
   "outputs": [],
   "source": [
    "#Se agrupa por año e Ingresos miles de pesos\n",
    "Internet_ingresos = Internet_ingresos.groupby('Año').sum()\n",
    "Internet_ingresos.drop(['Trimestre', 'Periodo'], axis=1, inplace=True)"
   ]
  },
  {
   "cell_type": "code",
   "execution_count": null,
   "metadata": {},
   "outputs": [],
   "source": [
    "Internet_ingresos.reset_index()"
   ]
  },
  {
   "cell_type": "code",
   "execution_count": null,
   "metadata": {},
   "outputs": [],
   "source": [
    "# Calculamos la tasa de crecimiento en porcentaje\n",
    "Internet_ingresos['Crecimiento_anual'] = Internet_ingresos['Ingresos (miles de pesos)'].pct_change() * 100\n",
    "\n",
    "# Replace NaN values with 0 for the year 2014\n",
    "Internet_ingresos.loc[Internet_ingresos['Año'] == 2014, 'Crecimiento_anual'] = 0\n"
   ]
  },
  {
   "cell_type": "code",
   "execution_count": null,
   "metadata": {},
   "outputs": [],
   "source": [
    "#Realizo un reindex de columna\n",
    "Internet_ingresos = Internet_ingresos.reset_index()"
   ]
  },
  {
   "cell_type": "code",
   "execution_count": null,
   "metadata": {},
   "outputs": [],
   "source": [
    "#Garantizo que si quedaran\n",
    "Internet_ingresos.columns"
   ]
  },
  {
   "cell_type": "code",
   "execution_count": null,
   "metadata": {},
   "outputs": [],
   "source": [
    "# Filtrar el DataFrame para omitir el año 2014\n",
    "Internet_ingresos_filtered = Internet_ingresos[Internet_ingresos['Año'] != 2014]\n",
    "\n",
    "# Ordenar el DataFrame filtrado por Crecimiento_anual de forma decreciente\n",
    "Internet_ingresos_sorted = Internet_ingresos_filtered.sort_values('Crecimiento_anual', ascending=False)\n",
    "\n",
    "sns.set(style='darkgrid', palette='viridis')\n",
    "\n",
    "# Crear el gráfico de barras\n",
    "plt.figure(figsize=(10, 6))\n",
    "sns.barplot(x='Año', y='Crecimiento_anual', data=Internet_ingresos_sorted)\n",
    "\n",
    "# Personalizar el gráfico\n",
    "plt.title('Crecimiento anual en ganancias expresada en porcentaje')\n",
    "plt.xlabel('Año')\n",
    "plt.ylabel('Crecimiento anual')\n",
    "\n",
    "# Mostrar el gráfico\n",
    "plt.show()\n",
    "\n",
    "#En este grafico se observa que el mayor crecimiento anual en cuando a ganancias con relacion al año anterior\n",
    "#está representado por el año 2018, seguido del 2017"
   ]
  },
  {
   "attachments": {},
   "cell_type": "markdown",
   "metadata": {},
   "source": [
    "Busco el KPI asociado a ganancias"
   ]
  },
  {
   "cell_type": "code",
   "execution_count": null,
   "metadata": {},
   "outputs": [],
   "source": [
    "from sklearn.linear_model import LinearRegression\n",
    "\n",
    "# Crear una variable para considerar datos hasta 2022, utilizando el método dropna para omitir 2014\n",
    "datos_hasta_2022 = Internet_ingresos['Crecimiento_anual'].dropna()\n",
    "\n",
    "# Crear el modelo de regresión lineal asignando las variables independiente y dependiente\n",
    "X = Internet_ingresos.loc[datos_hasta_2022.index, 'Año'].values.reshape(-1, 1)  # Variable independiente\n",
    "y = datos_hasta_2022  # Variable dependiente\n",
    "\n",
    "modelo = LinearRegression()\n",
    "modelo.fit(X, y)\n",
    "\n",
    "# Predecir los ingresos para el cuarto trimestre de 2022 y el año 2023\n",
    "ingresos_2022 = modelo.predict([[2022]])\n",
    "ingresos_2023 = modelo.predict([[2023]])\n",
    "\n",
    "# Mostrar los resultados\n",
    "print(\"Ingresos proyectados para el cuarto trimestre de 2022:\", ingresos_2022[0])\n",
    "print(\"Ingresos proyectados para el año 2023:\", ingresos_2023[0])\n"
   ]
  },
  {
   "cell_type": "code",
   "execution_count": null,
   "metadata": {},
   "outputs": [],
   "source": [
    "Internet_ingresos.columns"
   ]
  },
  {
   "attachments": {},
   "cell_type": "markdown",
   "metadata": {},
   "source": [
    "Se obtien el KPI en forma visual, ganancias esperadas para 4 trimestre del 2022 y 2023"
   ]
  },
  {
   "cell_type": "code",
   "execution_count": null,
   "metadata": {},
   "outputs": [],
   "source": [
    "# Crear el gráfico de crecimiento en ganancias, se realizaz con ingreso en miles por temas de practicidad\n",
    "plt.plot(Internet_ingresos['Año'], Internet_ingresos['Ingresos (miles de pesos)'], marker='o', label='Crecimiento en ganancias')\n",
    "\n",
    "# Establecer las metas u objetivos para el tercer trimestre de 2022 y el año 2023\n",
    "plt.axvline(x=2022.75, color='red', linestyle='--', label='Objetivo T4 2022')\n",
    "plt.axhline(y=ingresos_2022[0], color='red', linestyle='--')\n",
    "plt.text(2022.8, ingresos_2022[0]+10000, f'${ingresos_2022[0]:.2f}k')\n",
    "\n",
    "plt.axvline(x=2023, color='green', linestyle='--', label='Objetivo 2023')\n",
    "plt.axhline(y=ingresos_2023[0], color='green', linestyle='--')\n",
    "plt.text(2023.05, ingresos_2023[0]+10000, f'${ingresos_2023[0]:.2f}k')\n",
    "\n",
    "# Personalizar el gráfico\n",
    "plt.title('Crecimiento en ganancias y metas')\n",
    "plt.xlabel('Año')\n",
    "plt.ylabel('Ingresos (miles de pesos)')\n",
    "plt.legend()\n",
    "\n",
    "# Mostrar el gráfico\n",
    "plt.show()\n"
   ]
  },
  {
   "attachments": {},
   "cell_type": "markdown",
   "metadata": {},
   "source": [
    "Realizamos el análisis de penetrancia o acceso a internet por cada 100 hogares, para ello agrupamos por año y provincia, se determina a \n",
    "partir de 2017 para no presentar discordancias con los datos de otros df "
   ]
  },
  {
   "cell_type": "code",
   "execution_count": null,
   "metadata": {},
   "outputs": [],
   "source": [
    "#Muestro mi DF \n",
    "Internet_Penetracion"
   ]
  },
  {
   "cell_type": "code",
   "execution_count": null,
   "metadata": {},
   "outputs": [],
   "source": [
    "# Filtrar y procesar los datos por año a partir de 2017\n",
    "for year, data_year in Internet_Penetracion[Internet_Penetracion['Año'] >= 2017].groupby('Año'):\n",
    "    # Eliminar las comas de los valores en la columna 'Accesos por cada 100 hogares'\n",
    "    data_year['Accesos por cada 100 hogares'] = data_year['Accesos por cada 100 hogares'].str.replace(',', '').astype(float)\n",
    "    # Calcular el promedio del acceso a Internet por cada 100 hogares para cada provincia y trimestre\n",
    "    data_avg = data_year.groupby(['Provincia', 'Trimestre'])['Accesos por cada 100 hogares'].mean().reset_index()\n",
    "    # Obtener la provincia con el menor acceso a Internet\n",
    "    provincia_menor_acceso = data_avg.loc[data_avg['Accesos por cada 100 hogares'].idxmin()]['Provincia']\n",
    "    # Obtener el valor del menor acceso a Internet\n",
    "    menor_acceso = data_avg.loc[data_avg['Accesos por cada 100 hogares'].idxmin()]['Accesos por cada 100 hogares']\n",
    "    # Imprimir el resultado para cada año\n",
    "    print(f\"Año {year}: Provincia con menor acceso a Internet: {provincia_menor_acceso}, Accesos por cada 100 hogares: {menor_acceso}\")"
   ]
  },
  {
   "attachments": {},
   "cell_type": "markdown",
   "metadata": {},
   "source": [
    "Se decide obtener datos de KPI para ello realizo una vez más modelos de regresión considerando crecimiento trimestral y Acceso por cada 100 hogares"
   ]
  },
  {
   "cell_type": "code",
   "execution_count": null,
   "metadata": {},
   "outputs": [],
   "source": [
    "# Primero ordenamos los datos por trimestre, dado que existía un error en la correlación.\n",
    "datos_ordenados = Internet_Penetracion.sort_values('Trimestre')\n",
    "\n",
    "# Limpiar y convertir la columna 'Accesos por cada 100 hogares'\n",
    "datos_ordenados['Accesos por cada 100 hogares'] = datos_ordenados['Accesos por cada 100 hogares'].str.replace(',', '.').astype(float)\n",
    "\n",
    "# Asignar los datos de entrenamiento\n",
    "X_train = datos_ordenados['Trimestre'].values.reshape(-1, 1)  # Variable independiente\n",
    "y_train = datos_ordenados['Accesos por cada 100 hogares']  # Variable dependiente\n",
    "\n",
    "# Ajustar el modelo utilizando los datos de entrenamiento\n",
    "modelo.fit(X_train, y_train)\n",
    "\n",
    "# Realizar la proyección para el cuarto trimestre del 2022\n",
    "trimestre_2022 = 4\n",
    "X_2022 = [[trimestre_2022]]\n",
    "proyeccion_2022 = modelo.predict(X_2022)\n",
    "\n",
    "# Redondear la proyección a un número entero\n",
    "proyeccion_2022_entero = int(round(proyeccion_2022[0]))\n",
    "\n",
    "# Obtener los últimos dos valores de la serie\n",
    "ultimo_valor = y_train.iloc[-1]\n",
    "penultimo_valor = y_train.iloc[-2]\n",
    "\n",
    "# Calcular el crecimiento anterior y promedio\n",
    "crecimiento_anterior = ultimo_valor - penultimo_valor\n",
    "crecimiento_promedio = y_train.mean()\n",
    "\n",
    "# Mostrar el resultado de la proyección y los crecimientos\n",
    "print(\"Basado en el crecimiento por cada 100 hogares por trimestre, se espera que para el 4to trimestre del 2022 existan\", proyeccion_2022_entero, \"accesos por cada 100 hogares.\")\n",
    "print(\"Crecimiento anterior: {:.2f}\".format(crecimiento_anterior))\n",
    "print(\"Crecimiento promedio: {:.2f}\".format(crecimiento_promedio))\n",
    "\n"
   ]
  },
  {
   "attachments": {},
   "cell_type": "markdown",
   "metadata": {},
   "source": [
    "Dado los resultados se define generar la proyección gráfica del KPI"
   ]
  },
  {
   "cell_type": "code",
   "execution_count": null,
   "metadata": {},
   "outputs": [],
   "source": [
    "# Crear un array con los valores de trimestre para la proyección\n",
    "trimestres_proyeccion = np.array(range(1, trimestre_2022+1))\n",
    "\n",
    "# Calcular los valores proyectados para cada trimestre\n",
    "proyeccion_trimestres = modelo.predict(trimestres_proyeccion.reshape(-1, 1))\n",
    "\n",
    "# Crear el gráfico de línea\n",
    "plt.figure(figsize=(10, 6))\n",
    "plt.plot(X_train, y_train, 'o-', label='Datos reales')\n",
    "plt.plot(trimestres_proyeccion, proyeccion_trimestres, 'r--', label='Proyección')\n",
    "\n",
    "# Personalizar el gráfico\n",
    "plt.title('Proyección de accesos por cada 100 hogares')\n",
    "plt.xlabel('Trimestre')\n",
    "plt.ylabel('Accesos por cada 100 hogares')\n",
    "plt.legend()\n",
    "\n",
    "# Mostrar el gráfico\n",
    "plt.show()\n",
    "\n"
   ]
  },
  {
   "attachments": {},
   "cell_type": "markdown",
   "metadata": {},
   "source": [
    "Iniciamos con el calculo del PBI de Argentina"
   ]
  },
  {
   "cell_type": "code",
   "execution_count": null,
   "metadata": {},
   "outputs": [],
   "source": [
    "import pandas as pd\n",
    "\n",
    "ruta_archivo = 'Datasets\\MetadatosPBI.xlsx'\n",
    "df_PBI = pd.read_excel(ruta_archivo)"
   ]
  },
  {
   "cell_type": "code",
   "execution_count": null,
   "metadata": {},
   "outputs": [],
   "source": [
    "df_PBI.columns"
   ]
  },
  {
   "cell_type": "code",
   "execution_count": null,
   "metadata": {},
   "outputs": [],
   "source": [
    "df_PBIArgentina = df_PBI[df_PBI['Country Name'] == 'Argentina'].copy()\n",
    "df_PBIArgentina.drop(['Country Code', 'Indicator Name', 'Indicator Code'], axis=1, inplace=True)\n"
   ]
  },
  {
   "cell_type": "code",
   "execution_count": null,
   "metadata": {},
   "outputs": [],
   "source": [
    "df_PBIArgentina.columns"
   ]
  },
  {
   "cell_type": "code",
   "execution_count": null,
   "metadata": {},
   "outputs": [],
   "source": [
    "df_PBIArgentina.dtypes\n"
   ]
  },
  {
   "cell_type": "code",
   "execution_count": null,
   "metadata": {},
   "outputs": [],
   "source": [
    "# Crear una lista de años\n",
    "años = ['1961', '1962', '1963', '1964', '1965', '1966', '1967',\n",
    "       '1968', '1969', '1970', '1971', '1972', '1973', '1974', '1975', '1976',\n",
    "       '1977', '1978', '1979', '1980', '1981', '1982', '1983', '1984', '1985',\n",
    "       '1986', '1987', '1988', '1989', '1990', '1991', '1992', '1993', '1994',\n",
    "       '1995', '1996', '1997', '1998', '1999', '2000', '2001', '2002', '2003',\n",
    "       '2004', '2005', '2006', '2007', '2008', '2009', '2010', '2011', '2012',\n",
    "       '2013', '2014', '2015', '2016', '2017', '2018', '2019', '2020', '2021']\n",
    "\n",
    "# Crear un nuevo DataFrame para almacenar el crecimiento del PBI\n",
    "df_crecimiento_pbi = pd.DataFrame(index=df_PBIArgentina.index)\n",
    "\n",
    "# Calcular el crecimiento porcentual del PBI año a año y agregar las columnas al nuevo DataFrame\n",
    "for i in range(1, len(años)):\n",
    "    crecimiento_pbi = ((df_PBIArgentina.loc[:, años[i]] - df_PBIArgentina.loc[:, años[i-1]]) / df_PBIArgentina.loc[:, años[i-1]]) * 100\n",
    "    df_crecimiento_pbi[f'Crecimiento PBI {años[i]}'] = crecimiento_pbi\n",
    "\n",
    "# Imprimir el DataFrame con los datos de crecimiento del PBI\n",
    "df_crecimiento_pbi.head(59)\n",
    "\n"
   ]
  },
  {
   "cell_type": "code",
   "execution_count": null,
   "metadata": {},
   "outputs": [],
   "source": [
    "#Este codigo es solo para que me muestre la cantidad máxima de columnas\n",
    "pd.set_option('display.max_columns', None)\n",
    "df_crecimiento_pbi"
   ]
  },
  {
   "cell_type": "code",
   "execution_count": null,
   "metadata": {},
   "outputs": [],
   "source": [
    "import seaborn as sns\n",
    "import matplotlib.pyplot as plt\n",
    "\n",
    "# Señalo los valores de X\n",
    "años = ['2014', '2015', '2016', '2017', '2018', '2019', '2020', '2021']\n",
    "\n",
    "crecimiento_pbi = [-382.738597, -145.539405, -290.840772, -156.514858, -304.910732, -17.549021, 264.114608, -186.539468]\n",
    "\n",
    "# Establecer el estilo de Seaborn\n",
    "sns.set(style=\"darkgrid\")\n",
    "\n",
    "# Crear el gráfico de líneas\n",
    "plt.figure(figsize=(10, 6))\n",
    "sns.lineplot(x=años, y=crecimiento_pbi)\n",
    "\n",
    "plt.title('Crecimiento Porcentual del Producto Interno Bruto')\n",
    "plt.xlabel('Año')\n",
    "plt.ylabel('Crecimiento Porcentual')\n"
   ]
  },
  {
   "attachments": {},
   "cell_type": "markdown",
   "metadata": {},
   "source": [
    "Calculamos la correlación de Pearson para el caso entre PBI y Velocidad de Internet Bajada con la finalidad de obtener metricas que indiquen\n",
    "que el sector de telecomunicaciones si contribuye con el crecimiento del pais. En nuestro caso particular se demuestra una correlacion moderada"
   ]
  },
  {
   "cell_type": "code",
   "execution_count": null,
   "metadata": {},
   "outputs": [],
   "source": [
    "import scipy.stats as stats\n",
    "\n",
    "df_correlacion = pd.DataFrame({\n",
    "    'Año': ['2014', '2015', '2016', '2017', '2018', '2019', '2020', '2021'],\n",
    "    'Crecimiento Porcentual del Producto Interno Bruto': [-382.738597, -145.539405, -290.840772, -156.514858, -304.910732, -17.549021, 264.114608, -186.539468],\n",
    "    'Ganancias Porcentuales del Sector de Telecomunicaciones': [46.951834, 33.610605, 47.657807, 50.079740, 45.739205, 47.034826, 28.057995, 11.994931]\n",
    "})\n",
    "\n",
    "correlation, p_value = stats.pearsonr(df_correlacion['Crecimiento Porcentual del Producto Interno Bruto'], df_correlacion['Ganancias Porcentuales del Sector de Telecomunicaciones'])\n",
    "\n",
    "print(\"La correlación de Pearson entre el Crecimiento del Producto Interno Bruto y Ganancias Porcentuales:\", correlation)\n",
    "print(\"Valor p entre entre el Crecimiento del Producto Interno Bruto y Ganancias Porcentuales:\", p_value)\n",
    "\n",
    "#los resultados indican una correlación negativa débil entre el crecimiento del PIB y las ganancias porcentuales del sector de telecomunicaciones. \n",
    "# Sin embargo, debido al valor p mayor que 0.05, no hay suficiente evidencia estadística para respaldar esta correlación como significativa."
   ]
  },
  {
   "attachments": {},
   "cell_type": "markdown",
   "metadata": {},
   "source": [
    "Considerando que el resultado demuestra que existe una aparente relacion negativa o inversa sin suficiente evidencia\n",
    "estadística se decide realizar un modelo de regresión lineal"
   ]
  },
  {
   "cell_type": "code",
   "execution_count": null,
   "metadata": {},
   "outputs": [],
   "source": [
    "import pandas as pd\n",
    "from sklearn.model_selection import train_test_split\n",
    "from sklearn.linear_model import LinearRegression\n",
    "from sklearn.metrics import mean_squared_error, r2_score\n",
    "\n",
    "df_correlacion = pd.DataFrame({\n",
    "    'Año': ['2014', '2015', '2016', '2017', '2018', '2019', '2020', '2021'],\n",
    "    'Crecimiento Porcentual del Producto Interno Bruto': [-382.738597, -145.539405, -290.840772, -156.514858, -304.910732, -17.549021, 264.114608, -186.539468],\n",
    "    'Ganancias Porcentuales del Sector de Telecomunicaciones': [46.951834, 33.610605, 47.657807, 50.079740, 45.739205, 47.034826, 28.057995, 11.994931]\n",
    "})\n",
    "\n",
    "#Se llama al modelo\n",
    "modelo = LinearRegression()\n",
    "\n",
    "# Separar las variables independientes (X) y la variable objetivo (y)\n",
    "X = df_correlacion[['Crecimiento Porcentual del Producto Interno Bruto']]\n",
    "y = df_correlacion['Ganancias Porcentuales del Sector de Telecomunicaciones']\n",
    "\n",
    "# Entrenar el modelo\n",
    "modelo.fit(X, y)\n",
    "\n",
    "# Realizar las predicciones\n",
    "predicciones = modelo.predict(X)\n",
    "\n",
    "# Calcular el Error Cuadrático Medio (MSE) y el Coeficiente de Determinación (R-squared)\n",
    "mse = mean_squared_error(y, predicciones)\n",
    "r2 = r2_score(y, predicciones)\n",
    "\n",
    "# Imprimir las predicciones, el MSE y el R-squared\n",
    "print('Predicciones:', predicciones)\n",
    "print('Error Cuadrático Medio (MSE):', mse)\n",
    "print('Coeficiente de Determinación (R-squared):', r2)\n",
    "\n",
    "#Los resultados indican que el modelo de regresión lineal utilizado tiene un ajuste limitado a los datos \n",
    "# y no puede explicar de manera adecuada la relación entre el crecimiento del PIB y las ganancias del sector de telecomunicaciones. \n",
    "# Es posible que haya otros factores o variables que influyan en las ganancias del sector y que no se están considerando en este análisis univariado"
   ]
  }
 ],
 "metadata": {
  "kernelspec": {
   "display_name": "Python 3",
   "language": "python",
   "name": "python3"
  },
  "language_info": {
   "codemirror_mode": {
    "name": "ipython",
    "version": 3
   },
   "file_extension": ".py",
   "mimetype": "text/x-python",
   "name": "python",
   "nbconvert_exporter": "python",
   "pygments_lexer": "ipython3",
   "version": "3.11.3"
  },
  "orig_nbformat": 4
 },
 "nbformat": 4,
 "nbformat_minor": 2
}
