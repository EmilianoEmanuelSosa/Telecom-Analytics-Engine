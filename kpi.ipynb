{
 "cells": [
  {
   "cell_type": "code",
   "execution_count": 3,
   "metadata": {},
   "outputs": [],
   "source": [
    "import pandas as pd"
   ]
  },
  {
   "cell_type": "code",
   "execution_count": 4,
   "metadata": {},
   "outputs": [],
   "source": [
    "df_internet = pd.read_csv('Datasets/Internet_Penetracion.csv', encoding='utf-8')"
   ]
  },
  {
   "cell_type": "code",
   "execution_count": 5,
   "metadata": {},
   "outputs": [],
   "source": [
    "df_internet['Accesos por cada 100 hogares'] = df_internet['Accesos por cada 100 hogares'].str.replace(\",\", \".\")"
   ]
  },
  {
   "cell_type": "code",
   "execution_count": 6,
   "metadata": {},
   "outputs": [],
   "source": [
    "df_internet['Accesos por cada 100 hogares']=df_internet['Accesos por cada 100 hogares'].astype(float)"
   ]
  },
  {
   "cell_type": "code",
   "execution_count": 7,
   "metadata": {},
   "outputs": [],
   "source": [
    "df2 = df_internet[(df_internet['Año'] == 2022) & (df_internet['Trimestre'] == 3)]"
   ]
  },
  {
   "cell_type": "code",
   "execution_count": 8,
   "metadata": {},
   "outputs": [],
   "source": [
    "temp = df2['Accesos por cada 100 hogares'] * 1.02"
   ]
  },
  {
   "cell_type": "code",
   "execution_count": 9,
   "metadata": {},
   "outputs": [],
   "source": [
    "temp2=pd.DataFrame({'Año': ['2022', '2022', '2022', '2022', '2022',\n",
    "                        '2022', '2022', '2022', '2022', '2022',\n",
    "                        '2022', '2022', '2022', '2022', '2022',\n",
    "                        '2022', '2022', '2022', '2022', '2022',\n",
    "                        '2022', '2022', '2022', '2022'],\n",
    "        'Provincia': ['Buenos Aires', 'Capital Federal', 'Catamarca', 'Chaco', 'Chubut',\n",
    "                        'Córdoba', 'Corrientes', 'Entre Ríos', 'Formosa', 'Jujuy',\n",
    "                        'La Pampa', 'La Rioja', 'Mendoza', 'Misiones', 'Neuquén',\n",
    "                        'Río Negro', 'Salta', 'San Juan', 'San Luis', 'Santa Cruz',\n",
    "                        'Santa Fe', 'Santiago Del Estero', 'Tierra Del Fuego', 'Tucumán'],\n",
    "        'Trimestre': ['4', '4', '4', '4', '4',\n",
    "                        '4', '4', '4', '4', '4',\n",
    "                        '4', '4', '4', '4', '4',\n",
    "                        '4', '4', '4', '4', '4',\n",
    "                        '4', '4', '4', '4'],\n",
    "        'Accesos por cada 100 hogares':[79.6722,124.7256,66.6366,44.7372,86.0676,\n",
    "                                        90.0762,49.1742,64.9434,44.6352,60.0882,\n",
    "                                        98.5218,82.2732,52.0506,52.8564,81.9774,\n",
    "                                        69.3396,58.9152,51.8160,83.3748,44.0538,\n",
    "                                        80.1210,48.9396,101.5002,62.3628]}\n",
    "        )\n"
   ]
  },
  {
   "cell_type": "code",
   "execution_count": 10,
   "metadata": {},
   "outputs": [],
   "source": [
    "df_actualizado = pd.concat([df_internet, temp2], ignore_index=True)"
   ]
  },
  {
   "cell_type": "code",
   "execution_count": 11,
   "metadata": {},
   "outputs": [],
   "source": [
    "df_actualizado['Accesos por cada 100 hogares']=df_actualizado['Accesos por cada 100 hogares'].astype(str)"
   ]
  },
  {
   "cell_type": "code",
   "execution_count": 12,
   "metadata": {},
   "outputs": [],
   "source": [
    "df_actualizado['Accesos por cada 100 hogares'] = df_actualizado['Accesos por cada 100 hogares'].str.replace(\".\", \",\")"
   ]
  },
  {
   "cell_type": "code",
   "execution_count": 13,
   "metadata": {},
   "outputs": [
    {
     "name": "stdout",
     "output_type": "stream",
     "text": [
      "<class 'pandas.core.frame.DataFrame'>\n",
      "RangeIndex: 864 entries, 0 to 863\n",
      "Data columns (total 4 columns):\n",
      " #   Column                        Non-Null Count  Dtype \n",
      "---  ------                        --------------  ----- \n",
      " 0   Año                           864 non-null    object\n",
      " 1   Trimestre                     864 non-null    object\n",
      " 2   Provincia                     864 non-null    object\n",
      " 3   Accesos por cada 100 hogares  864 non-null    object\n",
      "dtypes: object(4)\n",
      "memory usage: 27.1+ KB\n"
     ]
    }
   ],
   "source": [
    "df_actualizado.info()"
   ]
  },
  {
   "cell_type": "code",
   "execution_count": 14,
   "metadata": {},
   "outputs": [],
   "source": [
    "df_actualizado.to_csv('Datasets/Internet_Penetracion_trismetre4.csv',index=False)"
   ]
  },
  {
   "cell_type": "code",
   "execution_count": 17,
   "metadata": {},
   "outputs": [
    {
     "data": {
      "text/plain": [
       "474       10,59\n",
       "862    101,5002\n",
       "241      105,98\n",
       "433      106,24\n",
       "265      106,25\n",
       "         ...   \n",
       "70        98,29\n",
       "94         98,4\n",
       "850     98,5218\n",
       "22        99,51\n",
       "46        99,86\n",
       "Name: Accesos por cada 100 hogares, Length: 864, dtype: object"
      ]
     },
     "execution_count": 17,
     "metadata": {},
     "output_type": "execute_result"
    }
   ],
   "source": [
    "df_actualizado['Accesos por cada 100 hogares'].sort_values()"
   ]
  }
 ],
 "metadata": {
  "kernelspec": {
   "display_name": "Python 3",
   "language": "python",
   "name": "python3"
  },
  "language_info": {
   "codemirror_mode": {
    "name": "ipython",
    "version": 3
   },
   "file_extension": ".py",
   "mimetype": "text/x-python",
   "name": "python",
   "nbconvert_exporter": "python",
   "pygments_lexer": "ipython3",
   "version": "3.11.3"
  },
  "orig_nbformat": 4
 },
 "nbformat": 4,
 "nbformat_minor": 2
}
