{
 "cells": [
  {
   "cell_type": "code",
   "execution_count": null,
   "metadata": {},
   "outputs": [],
   "source": [
    "import pandas as pd"
   ]
  },
  {
   "cell_type": "code",
   "execution_count": null,
   "metadata": {},
   "outputs": [],
   "source": [
    "df_internet = pd.read_csv('Datasets/Internet_Penetracion.csv', encoding='utf-8')"
   ]
  },
  {
   "cell_type": "code",
   "execution_count": null,
   "metadata": {},
   "outputs": [],
   "source": [
    "df_internet['Accesos por cada 100 hogares'] = df_internet['Accesos por cada 100 hogares'].str.replace(\",\", \".\")"
   ]
  },
  {
   "cell_type": "code",
   "execution_count": null,
   "metadata": {},
   "outputs": [],
   "source": [
    "df_internet['Accesos por cada 100 hogares']=df_internet['Accesos por cada 100 hogares'].astype(float)"
   ]
  },
  {
   "cell_type": "code",
   "execution_count": null,
   "metadata": {},
   "outputs": [],
   "source": [
    "df2 = df_internet[(df_internet['Año'] == 2022) & (df_internet['Trimestre'] == 3)]"
   ]
  },
  {
   "cell_type": "code",
   "execution_count": null,
   "metadata": {},
   "outputs": [],
   "source": [
    "temp = df2['Accesos por cada 100 hogares'] * 1.02"
   ]
  },
  {
   "cell_type": "code",
   "execution_count": 34,
   "metadata": {},
   "outputs": [],
   "source": [
    "temp2=pd.DataFrame({'Año': ['2022', '2022', '2022', '2022', '2022',\n",
    "                        '2022', '2022', '2022', '2022', '2022',\n",
    "                        '2022', '2022', '2022', '2022', '2022',\n",
    "                        '2022', '2022', '2022', '2022', '2022',\n",
    "                        '2022', '2022', '2022', '2022'],\n",
    "        'Provincia': ['Buenos Aires', 'Capital Federal', 'Catamarca', 'Chaco', 'Chubut',\n",
    "                        'Córdoba', 'Corrientes', 'Entre Ríos', 'Formosa', 'Jujuy',\n",
    "                        'La Pampa', 'La Rioja', 'Mendoza', 'Misiones', 'Neuquén',\n",
    "                        'Río Negro', 'Salta', 'San Juan', 'San Luis', 'Santa Cruz',\n",
    "                        'Santa Fe', 'Santiago Del Estero', 'Tierra Del Fuego', 'Tucumán'],\n",
    "        'Trimestre': ['4', '4', '4', '4', '4',\n",
    "                        '4', '4', '4', '4', '4',\n",
    "                        '4', '4', '4', '4', '4',\n",
    "                        '4', '4', '4', '4', '4',\n",
    "                        '4', '4', '4', '4'],\n",
    "        'Accesos por cada 100 hogares':[79.6722,124.7256,66.6366,44.7372,86.0676,\n",
    "                                        90.0762,49.1742,64.9434,44.6352,60.0882,\n",
    "                                        98.5218,82.2732,52.0506,52.8564,81.9774,\n",
    "                                        69.3396,58.9152,51.8160,83.3748,44.0538,\n",
    "                                        80.1210,48.9396,101.5002,62.3628]}\n",
    "        )\n"
   ]
  },
  {
   "cell_type": "code",
   "execution_count": 36,
   "metadata": {},
   "outputs": [],
   "source": [
    "df_actualizado = pd.concat([df_internet, temp2], ignore_index=True)"
   ]
  },
  {
   "cell_type": "code",
   "execution_count": null,
   "metadata": {},
   "outputs": [],
   "source": [
    "df_actualizado.to_csv('Datasets/Internet_Penetracion_trismetre4.csv',index=False)"
   ]
  }
 ],
 "metadata": {
  "kernelspec": {
   "display_name": "Python 3",
   "language": "python",
   "name": "python3"
  },
  "language_info": {
   "codemirror_mode": {
    "name": "ipython",
    "version": 3
   },
   "file_extension": ".py",
   "mimetype": "text/x-python",
   "name": "python",
   "nbconvert_exporter": "python",
   "pygments_lexer": "ipython3",
   "version": "3.11.3"
  },
  "orig_nbformat": 4
 },
 "nbformat": 4,
 "nbformat_minor": 2
}
