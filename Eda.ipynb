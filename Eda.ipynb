{
 "cells": [
  {
   "attachments": {},
   "cell_type": "markdown",
   "metadata": {},
   "source": [
    "<p>I get 10 times more traffic from <a href=\"http://google.com/\" title=\"Google\">Google</a> than from\n",
    "<a href=\"http://search.yahoo.com/\" title=\"Yahoo Search\">Yahoo</a>\n",
    "or <a href=\"http://search.msn.com/\" title=\"MSN Search\">MSN</a>.</p>"
   ]
  },
  {
   "attachments": {},
   "cell_type": "markdown",
   "metadata": {},
   "source": [
    "> ##### Importar librerias"
   ]
  },
  {
   "cell_type": "code",
   "execution_count": 10,
   "metadata": {},
   "outputs": [],
   "source": [
    "import pandas as pd\n",
    "import matplotlib as mat\n",
    "\n"
   ]
  },
  {
   "attachments": {},
   "cell_type": "markdown",
   "metadata": {},
   "source": [
    "___"
   ]
  },
  {
   "attachments": {},
   "cell_type": "markdown",
   "metadata": {},
   "source": [
    "> # EDA\n"
   ]
  },
  {
   "attachments": {},
   "cell_type": "markdown",
   "metadata": {},
   "source": [
    "> starting with Analysis"
   ]
  },
  {
   "cell_type": "code",
   "execution_count": 3,
   "metadata": {},
   "outputs": [],
   "source": [
    "#importando los datasets..\n",
    "\n",
    "Acceso_internet_fijo_velocidadbajada_provincia=pd.read_csv('Datasets/AccesosaInternetfijoporvelocidadbajadayprovincia_2791741685050936567.csv')\n",
    "Acceso_internet_fijo_velocidadbajada_localidad=pd.read_csv('Datasets/AccesosaInternetfijoporvelocidaddebajadaylocalidad_2776171685050986091.csv')\n",
    "Conectividad_Servicio_Internet=pd.read_csv('Datasets/ConectividadalserviciodeInternet_2776151685051230707.csv')\n",
    "Historica_velocidad_internet=pd.read_csv('Datasets/historico_velocidad_internet.csv')\n",
    "Internet_Accesos_por_tecnologia=pd.read_csv('Datasets/Internet_Accesos-por-tecnologia.csv')\n",
    "Internet_Accesos_velocidad=pd.read_csv('Datasets/Internet_Accesos-por-tecnologia.csv')\n",
    "Internet_BAF=pd.read_csv('Datasets/Internet_BAF.csv')\n",
    "Internet_ingresos=pd.read_csv('Datasets/Internet_Ingresos.csv')\n",
    "Internet_Penetracion=pd.read_csv('Datasets/Internet_Penetracion.csv')\n",
    "Listado_localidades_conectividad_internet=pd.read_csv('Datasets/Listadodelocalidadesconconectividadainternet_2750221685051211461.csv')"
   ]
  },
  {
   "attachments": {},
   "cell_type": "markdown",
   "metadata": {},
   "source": [
    "___"
   ]
  },
  {
   "attachments": {},
   "cell_type": "markdown",
   "metadata": {},
   "source": [
    "#### Tratamiento de datos:\n",
    "> Evaluacion de Nulos por Dataframe"
   ]
  },
  {
   "cell_type": "code",
   "execution_count": 4,
   "metadata": {},
   "outputs": [],
   "source": [
    "datasets_full=[Acceso_internet_fijo_velocidadbajada_provincia,Acceso_internet_fijo_velocidadbajada_localidad,Conectividad_Servicio_Internet,\n",
    "          Historica_velocidad_internet,Internet_Accesos_por_tecnologia,Internet_Accesos_velocidad,Internet_BAF,Internet_ingresos,\n",
    "          Internet_Penetracion,Listado_localidades_conectividad_internet]\n",
    "\n",
    "def Show_null(datasets):\n",
    "    for i, dataset in enumerate(datasets):\n",
    "        print('---------------------','\\n',\"Dataset Name:\", f\"DataFrame {i+1}\")\n",
    "        print(dataset.isnull().sum(),'\\n','---------------------','\\n\\n\\n')\n",
    "    return 'Finish'\n"
   ]
  },
  {
   "cell_type": "code",
   "execution_count": 8,
   "metadata": {},
   "outputs": [
    {
     "name": "stdout",
     "output_type": "stream",
     "text": [
      "--------------------- \n",
      " Dataset Name: DataFrame 1\n",
      "Año           1\n",
      "Trimestre     1\n",
      "Provincia     1\n",
      "Otros         1\n",
      "0,256 Mbps    1\n",
      "             ..\n",
      "80 Mbps       1\n",
      "81 Mbps       1\n",
      "83 Mbps       1\n",
      "82 Mbps       1\n",
      "86 Mbps       1\n",
      "Length: 97, dtype: int64 \n",
      " --------------------- \n",
      "\n",
      "\n",
      "\n",
      "--------------------- \n",
      " Dataset Name: DataFrame 2\n",
      "Provincia        0\n",
      "Partido          0\n",
      "Localidad        0\n",
      "Link Indec       0\n",
      "Otros         2142\n",
      "              ... \n",
      "85 mbps       3097\n",
      "90 mbps       3096\n",
      "92 mbps       3096\n",
      "95 mbps       3097\n",
      "100 mbps      2545\n",
      "Length: 83, dtype: int64 \n",
      " --------------------- \n",
      "\n",
      "\n",
      "\n",
      "--------------------- \n",
      " Dataset Name: DataFrame 3\n",
      "Provincia         0\n",
      "Partido           0\n",
      "Localidad         0\n",
      "Poblacion         0\n",
      "ADSL              0\n",
      "CABLEMODEM        0\n",
      "DIALUP            0\n",
      "FIBRAOPTICA       0\n",
      "SATELITAL         0\n",
      "WIRELESS          0\n",
      "TELEFONIAFIJA     0\n",
      "3G                0\n",
      "4G                0\n",
      "link             12\n",
      "Latitud           0\n",
      "Longitud          0\n",
      "dtype: int64 \n",
      " --------------------- \n",
      "\n",
      "\n",
      "\n",
      "--------------------- \n",
      " Dataset Name: DataFrame 4\n",
      "Año                       0\n",
      "Trimestre                 0\n",
      "Mbps (Media de bajada)    0\n",
      "Trimestre.1               0\n",
      "dtype: int64 \n",
      " --------------------- \n",
      "\n",
      "\n",
      "\n",
      "--------------------- \n",
      " Dataset Name: DataFrame 5\n",
      "Año             0\n",
      "Trimestre       0\n",
      "ADSL            0\n",
      "Cablemodem      0\n",
      "Fibra óptica    0\n",
      "Wireless        0\n",
      "Otros           0\n",
      "Total           0\n",
      "Periodo         0\n",
      "dtype: int64 \n",
      " --------------------- \n",
      "\n",
      "\n",
      "\n",
      "--------------------- \n",
      " Dataset Name: DataFrame 6\n",
      "Año             0\n",
      "Trimestre       0\n",
      "ADSL            0\n",
      "Cablemodem      0\n",
      "Fibra óptica    0\n",
      "Wireless        0\n",
      "Otros           0\n",
      "Total           0\n",
      "Periodo         0\n",
      "dtype: int64 \n",
      " --------------------- \n",
      "\n",
      "\n",
      "\n",
      "--------------------- \n",
      " Dataset Name: DataFrame 7\n",
      "Año                 0\n",
      "Trimestre           0\n",
      "Banda ancha fija    0\n",
      "Dial up             0\n",
      "Total               0\n",
      "Periodo             0\n",
      "dtype: int64 \n",
      " --------------------- \n",
      "\n",
      "\n",
      "\n",
      "--------------------- \n",
      " Dataset Name: DataFrame 8\n",
      "Año                          0\n",
      "Trimestre                    0\n",
      "Ingresos (miles de pesos)    0\n",
      "Periodo                      0\n",
      "dtype: int64 \n",
      " --------------------- \n",
      "\n",
      "\n",
      "\n",
      "--------------------- \n",
      " Dataset Name: DataFrame 9\n",
      "Año                             0\n",
      "Trimestre                       0\n",
      "Provincia                       0\n",
      "Accesos por cada 100 hogares    0\n",
      "dtype: int64 \n",
      " --------------------- \n",
      "\n",
      "\n",
      "\n",
      "--------------------- \n",
      " Dataset Name: DataFrame 10\n",
      "Provincia        0\n",
      "Partido          0\n",
      "Localidad        0\n",
      "ADSL             0\n",
      "CABLEMODEM       0\n",
      "DIALUP           0\n",
      "FIBRAOPTICA      0\n",
      "4G               0\n",
      "3G               0\n",
      "TELEFONIAFIJA    0\n",
      "WIRELESS         0\n",
      "SATELITAL        0\n",
      "dtype: int64 \n",
      " --------------------- \n",
      "\n",
      "\n",
      "\n"
     ]
    },
    {
     "data": {
      "text/plain": [
       "'Finish'"
      ]
     },
     "execution_count": 8,
     "metadata": {},
     "output_type": "execute_result"
    }
   ],
   "source": [
    "Show_null(datasets_full)"
   ]
  },
  {
   "cell_type": "code",
   "execution_count": 25,
   "metadata": {},
   "outputs": [
    {
     "data": {
      "text/plain": [
       "(3098, 83)"
      ]
     },
     "execution_count": 25,
     "metadata": {},
     "output_type": "execute_result"
    }
   ],
   "source": [
    "Acceso_internet_fijo_velocidadbajada_provincia.isnull().sum()\n",
    "Acceso_internet_fijo_velocidadbajada_localidad.isnull().sum()\n",
    "Conectividad_Servicio_Internet.i"
   ]
  }
 ],
 "metadata": {
  "kernelspec": {
   "display_name": "Python 3",
   "language": "python",
   "name": "python3"
  },
  "language_info": {
   "codemirror_mode": {
    "name": "ipython",
    "version": 3
   },
   "file_extension": ".py",
   "mimetype": "text/x-python",
   "name": "python",
   "nbconvert_exporter": "python",
   "pygments_lexer": "ipython3",
   "version": "3.11.3"
  },
  "orig_nbformat": 4
 },
 "nbformat": 4,
 "nbformat_minor": 2
}
